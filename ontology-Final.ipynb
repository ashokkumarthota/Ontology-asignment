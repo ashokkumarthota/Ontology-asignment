{
 "cells": [
  {
   "cell_type": "code",
   "execution_count": 29,
   "id": "884a1268",
   "metadata": {},
   "outputs": [],
   "source": [
    "import os\n",
    "from rdflib import Graph,Literal, RDF, URIRef\n",
    "from rdflib.namespace import FOAF, XSD\n",
    "from rdflib.namespace import  RDF, RDFS"
   ]
  },
  {
   "cell_type": "code",
   "execution_count": 30,
   "id": "53f5dd9d",
   "metadata": {},
   "outputs": [],
   "source": [
    "cwd=os.getcwd()"
   ]
  },
  {
   "cell_type": "markdown",
   "id": "70685136",
   "metadata": {},
   "source": [
    "### Fetch data from XML"
   ]
  },
  {
   "cell_type": "code",
   "execution_count": 31,
   "id": "4421a489",
   "metadata": {},
   "outputs": [],
   "source": [
    "import xml.etree.ElementTree as ET\n",
    "\n",
    "# Passing the path of the\n",
    "# xml document to enable the\n",
    "# parsing process\n",
    "tree = ET.parse('onto.xml')\n",
    "\n",
    "\n",
    "# Get data from tags\n",
    "genres=[]\n",
    "locations=[]\n",
    "episodes=[]\n",
    "awardNom=[]\n",
    "songs=[]\n",
    "awardWin=[]\n",
    "casts=[]\n",
    "crew=[]\n",
    "\n",
    "root = tree.getroot()\n",
    "for child in root:\n",
    "    #All necessary details under info element\n",
    "    if(child.tag=='info'):\n",
    "        #fetch all genres\n",
    "        for listing in root.findall(child.tag+\"/genres/type\"):\n",
    "            #genres = listing.find('type')\n",
    "            #print(listing.tag)\n",
    "            genres.append(listing.text)\n",
    "            \n",
    "            \n",
    "        for listing in root.findall(child.tag+\"/songs/song\"):\n",
    "            title = listing.find(\"title\")\n",
    "            singers=listing.findall(\"singers/singerid\")             \n",
    "            songs.append([title.text,[singers[0].text]])\n",
    "        #fetch all location \n",
    "        for listing in root.findall(child.tag+\"/shooting-location/location\"):\n",
    "            #genres = listing.find('type')\n",
    "            #print(listing.tag)\n",
    "            locations.append(listing.text)\n",
    "        #fetch all episodes    \n",
    "        for listing in root.findall(child.tag+\"/seasons/season\"):    \n",
    "            eps = listing.findall('episodes/episode/title')          \n",
    "            ep=[]\n",
    "            for i in eps:\n",
    "                ep.append(i.text)\n",
    "            episodes.append(ep)\n",
    "    #All Casts details     \n",
    "    if(child.tag=='cast'):\n",
    "        #fetch all genres\n",
    "        for listing in root.findall(child.tag+\"/actor/person\"):\n",
    "            name = listing.find('name')\n",
    "            name = name.text\n",
    "            personId = listing.get('personId')\n",
    "            hireby = listing.get('hiredby')\n",
    "            casts.append([name,personId,hireby,'Actor'])\n",
    "            \n",
    "        for listing in root.findall(child.tag+\"/actress/person\"):\n",
    "            name = listing.find('name')\n",
    "            name = name.text\n",
    "            personId = listing.get('personId')\n",
    "            hireby = listing.get('hiredby')\n",
    "            casts.append([name,personId,hireby,'Actress'])\n",
    "    #All crew details     \n",
    "    if(child.tag=='crew'):\n",
    "        #fetch all genres\n",
    "        for listing in root.findall(child.tag+\"/director/person\"):\n",
    "            name = listing.find('name')\n",
    "            name = name.text\n",
    "            personId = listing.get('personId')\n",
    "            hireby = listing.get('hiredby')\n",
    "            crew.append([name,personId,hireby,'Director'])\n",
    "            \n",
    "        for listing in root.findall(child.tag+\"/constume-designer/person\"):\n",
    "            name = listing.find('name')\n",
    "            name = name.text\n",
    "            personId = listing.get('personId')\n",
    "            hireby = listing.get('hiredby')\n",
    "            crew.append([name,personId,hireby,'ConstumeDesigner'])    \n",
    "        for listing in root.findall(child.tag+\"/singer/person\"):\n",
    "            name = listing.find('name')\n",
    "            name = name.text\n",
    "            personId = listing.get('personId')\n",
    "            hireby = listing.get('hiredby')\n",
    "            crew.append([name,personId,hireby,'Singer'])   \n",
    "    #All award details     \n",
    "    if(child.tag=='awards'):\n",
    "        #fetch all genres\n",
    "        for listing in root.findall(child.tag+\"/nominee/award\"):\n",
    "            nominee = listing.get('nomineeid')\n",
    "            name = listing.get('name')\n",
    "            awardNom.append([nominee,name])\n",
    "        for listing in root.findall(child.tag+\"/winner/award\"):\n",
    "            wonby = listing.get('wonby')\n",
    "            name = listing.get('name')\n",
    "            awardWin.append([wonby,name])\n",
    "\n",
    "            "
   ]
  },
  {
   "cell_type": "code",
   "execution_count": 32,
   "id": "ebba5b33",
   "metadata": {},
   "outputs": [],
   "source": [
    "distinctDirectors=[]\n",
    "for i in crew:\n",
    "    if(i[3]=='Director'):\n",
    "        distinctDirectors.append((i[0],i[1]))"
   ]
  },
  {
   "cell_type": "code",
   "execution_count": 33,
   "id": "a0264644",
   "metadata": {},
   "outputs": [],
   "source": [
    "actor=[]\n",
    "actress=[]\n",
    "for i in casts:\n",
    "    if(i[3]=='Actor'):\n",
    "        actor.append((i[0],i[1],i[2]))\n",
    "    else:\n",
    "        actress.append((i[0],i[1],i[2]))\n",
    "        \n",
    "director=[]\n",
    "constumeDesigner=[]\n",
    "singer=[]\n",
    "for i in crew:\n",
    "    if(i[3]=='Director'):\n",
    "        director.append((i[0],i[1],i[2]))\n",
    "    if(i[3]=='ConstumeDesigner'):\n",
    "        constumeDesigner.append((i[0],i[1],i[2]))\n",
    "    if(i[3]=='Singer'):\n",
    "        singer.append((i[0],i[1],i[2]))"
   ]
  },
  {
   "cell_type": "code",
   "execution_count": 34,
   "id": "d03caad2",
   "metadata": {},
   "outputs": [],
   "source": [
    "\n",
    "g=Graph()\n",
    "filename = cwd+\"\\\\tvseries.owl\"\n",
    "g.load(filename, format='xml')"
   ]
  },
  {
   "cell_type": "code",
   "execution_count": 35,
   "id": "58d4abe3",
   "metadata": {},
   "outputs": [],
   "source": [
    "myNamespace=\"http://www.semanticweb.org/cseka/ontologies/2022/3/tvseries\"\n",
    "namedIndividual = URIRef('http://www.w3.org/2002/07/owl#NamedIndividual')\n",
    "rdftype = URIRef(\"http://www.w3.org/1999/02/22-rdf-syntax-ns#type\")\n"
   ]
  },
  {
   "cell_type": "code",
   "execution_count": 36,
   "id": "3fc85eea",
   "metadata": {},
   "outputs": [],
   "source": [
    "individualName=str(myNamespace)+\"#\"+str(episodes[0][1]).replace(' ','_')\n",
    "arc_class=str(myNamespace)+\"#\"+\"Episode\"\n",
    "arc_individual = URIRef(individualName) "
   ]
  },
  {
   "cell_type": "code",
   "execution_count": 37,
   "id": "04387f31",
   "metadata": {},
   "outputs": [],
   "source": [
    "def isAlreadyDefined(subs):\n",
    "    for s in g.subjects():\n",
    "        if(subs in str(s)):\n",
    "            return True\n",
    "    return False"
   ]
  },
  {
   "cell_type": "code",
   "execution_count": 38,
   "id": "acf77b7a",
   "metadata": {},
   "outputs": [],
   "source": [
    "all_triplets=[]\n",
    "triplets=[]\n",
    "object_properties=[]  \n",
    "attribute_properties=[]  \n",
    "\n",
    "sub_pred_obj=[]"
   ]
  },
  {
   "cell_type": "markdown",
   "id": "b2d45ab3",
   "metadata": {},
   "source": [
    "### Add all Actors and Actress"
   ]
  },
  {
   "cell_type": "code",
   "execution_count": 39,
   "id": "9497fa40",
   "metadata": {},
   "outputs": [],
   "source": [
    "for cst in actor: \n",
    "        individualName=str(myNamespace)+\"#\"+str(cst[0]).replace(' ','_')\n",
    "        arc_class=str(myNamespace)+\"#\"+\"Actor\"\n",
    "        arc_individual = URIRef(individualName)         \n",
    "        \n",
    "        if(isAlreadyDefined(individualName)==False): \n",
    "            all_triplets.append((arc_individual,RDF.type, URIRef(arc_class)))\n",
    "            all_triplets.append((arc_individual,RDF.type, URIRef(namedIndividual)))\n",
    "            \n",
    "            #Add attribute : Person Id\n",
    "            subject=arc_individual\n",
    "            pred= URIRef(str(myNamespace)+\"#personid\")\n",
    "            literal=int(cst[1])\n",
    "            attribute_properties.append((subject,pred, Literal(literal,datatype=XSD.integer)))\n",
    "            \n",
    "            # add rdf label\n",
    "            literal=cst[0]\n",
    "            attribute_properties.append((subject,RDFS.label, Literal(literal,datatype=XSD.string)))\n",
    "          "
   ]
  },
  {
   "cell_type": "code",
   "execution_count": 40,
   "id": "146d3b7c",
   "metadata": {},
   "outputs": [],
   "source": [
    "for cst in actress: \n",
    "        individualName=str(myNamespace)+\"#\"+str(cst[0]).replace(' ','_')\n",
    "        arc_class=str(myNamespace)+\"#\"+\"Actress\"\n",
    "        arc_individual = URIRef(individualName)         \n",
    "        \n",
    "        if(isAlreadyDefined(individualName)==False): \n",
    "            all_triplets.append((arc_individual,RDF.type, URIRef(arc_class)))\n",
    "            all_triplets.append((arc_individual,RDF.type, URIRef(namedIndividual)))\n",
    "            #Add attribute : Person Id\n",
    "            subject=arc_individual\n",
    "            pred= URIRef(str(myNamespace)+\"#personid\")\n",
    "            literal=int(cst[1])\n",
    "            attribute_properties.append((subject,pred, Literal(literal,datatype=XSD.integer)))\n",
    "            \n",
    "             # add rdf label\n",
    "            literal=cst[0]\n",
    "            attribute_properties.append((subject,RDFS.label, Literal(literal,datatype=XSD.string)))"
   ]
  },
  {
   "cell_type": "markdown",
   "id": "4f9bd17b",
   "metadata": {},
   "source": [
    "### Add episodes"
   ]
  },
  {
   "cell_type": "code",
   "execution_count": 41,
   "id": "2f76ff26",
   "metadata": {},
   "outputs": [],
   "source": [
    "itr=0\n",
    "for eps in episodes:\n",
    "    itr+=1\n",
    "    #Add season\n",
    "    individualName=str(myNamespace)+\"#\"+str(\"season_\"+str(itr)).replace(' ','_')\n",
    "    arc_class=str(myNamespace)+\"#\"+\"Season\"\n",
    "    arc_individual = URIRef(individualName) \n",
    "    all_triplets.append((arc_individual,RDF.type, URIRef(arc_class)))\n",
    "    all_triplets.append((arc_individual,RDF.type, URIRef(namedIndividual)))\n",
    "    #Add new episodes\n",
    "    for i in range(len(eps)-1): \n",
    "        individualName=str(myNamespace)+\"#\"+str(eps[i+1]).replace(' ','_')\n",
    "        arc_class=str(myNamespace)+\"#\"+\"Episode\"\n",
    "        arc_individual = URIRef(individualName) \n",
    "        \n",
    "        if(isAlreadyDefined(individualName)==False): \n",
    "            all_triplets.append((arc_individual,RDF.type, URIRef(arc_class)))\n",
    "            all_triplets.append((arc_individual,RDF.type, URIRef(namedIndividual)))\n",
    "            \n",
    "            # add rdf label\n",
    "            literal=eps[i+1]\n",
    "            attribute_properties.append((arc_individual,RDFS.label, Literal(literal,datatype=XSD.string)))\n",
    "            "
   ]
  },
  {
   "cell_type": "markdown",
   "id": "735849f9",
   "metadata": {},
   "source": [
    "### Add all genere"
   ]
  },
  {
   "cell_type": "code",
   "execution_count": 42,
   "id": "fe1e9632",
   "metadata": {},
   "outputs": [],
   "source": [
    "for eps in genres: \n",
    "        individualName=str(myNamespace)+\"#\"+str(eps).replace(' ','_')\n",
    "        arc_class=str(myNamespace)+\"#\"+\"Genere\"\n",
    "        arc_individual = URIRef(individualName) \n",
    "        if(isAlreadyDefined(individualName)==False): \n",
    "            all_triplets.append((arc_individual,RDF.type, URIRef(arc_class)))\n",
    "            all_triplets.append((arc_individual,RDF.type, URIRef(namedIndividual)))\n",
    "            "
   ]
  },
  {
   "cell_type": "markdown",
   "id": "e24c71b7",
   "metadata": {},
   "source": [
    "### Add all Crew"
   ]
  },
  {
   "cell_type": "code",
   "execution_count": 43,
   "id": "2227f775",
   "metadata": {},
   "outputs": [],
   "source": [
    "for cst in director: \n",
    "        individualName=str(myNamespace)+\"#\"+str(cst[0]).replace(' ','_')\n",
    "        arc_class=str(myNamespace)+\"#\"+\"Director\"\n",
    "        arc_individual = URIRef(individualName)         \n",
    "\n",
    "        if(isAlreadyDefined(individualName)==False): \n",
    "            all_triplets.append((arc_individual,RDF.type, URIRef(arc_class)))\n",
    "            all_triplets.append((arc_individual,RDF.type, URIRef(namedIndividual)))\n",
    "            #Add attribute : Person Id\n",
    "            subject=arc_individual\n",
    "            pred= URIRef(str(myNamespace)+\"#personid\")\n",
    "            literal=int(cst[1])\n",
    "            attribute_properties.append((subject,pred, Literal(literal,datatype=XSD.integer)))\n",
    "            \n",
    "            \n",
    "            # add rdf label\n",
    "            literal=cst[0]\n",
    "            attribute_properties.append((subject,RDFS.label, Literal(literal,datatype=XSD.string)))\n",
    "            "
   ]
  },
  {
   "cell_type": "code",
   "execution_count": 44,
   "id": "1ccb2d05",
   "metadata": {},
   "outputs": [],
   "source": [
    "for cst in constumeDesigner: \n",
    "        individualName=str(myNamespace)+\"#\"+str(cst[0]).replace(' ','_')\n",
    "        arc_class=str(myNamespace)+\"#\"+\"CostumeDesigner\"\n",
    "        arc_individual = URIRef(individualName)         \n",
    "\n",
    "        if(isAlreadyDefined(individualName)==False): \n",
    "            all_triplets.append((arc_individual,RDF.type, URIRef(arc_class)))\n",
    "            all_triplets.append((arc_individual,RDF.type, URIRef(namedIndividual)))\n",
    "            #Add attribute : Person Id\n",
    "            subject=arc_individual\n",
    "            pred= URIRef(str(myNamespace)+\"#personid\")\n",
    "            literal=int(cst[1])\n",
    "            attribute_properties.append((subject,pred, Literal(literal,datatype=XSD.integer)))\n",
    "            \n",
    "            \n",
    "            # add rdf label\n",
    "            literal=cst[0]\n",
    "            attribute_properties.append((subject,RDFS.label, Literal(literal,datatype=XSD.string)))\n",
    "            "
   ]
  },
  {
   "cell_type": "code",
   "execution_count": 45,
   "id": "8a26f0da",
   "metadata": {},
   "outputs": [],
   "source": [
    "for cst in singer: \n",
    "        individualName=str(myNamespace)+\"#\"+str(cst[0]).replace(' ','_')\n",
    "        arc_class=str(myNamespace)+\"#\"+\"Singer\"\n",
    "        arc_individual = URIRef(individualName)         \n",
    "        \n",
    "\n",
    "        if(isAlreadyDefined(individualName)==False): \n",
    "            all_triplets.append((arc_individual,RDF.type, URIRef(arc_class)))\n",
    "            all_triplets.append((arc_individual,RDF.type, URIRef(namedIndividual)))\n",
    "            #Add attribute : Person Id\n",
    "            subject=arc_individual\n",
    "            pred= URIRef(str(myNamespace)+\"#personid\")\n",
    "            literal=int(cst[1])\n",
    "            attribute_properties.append((subject,pred, Literal(literal,datatype=XSD.integer)))\n",
    "            \n",
    "            \n",
    "            # add rdf label\n",
    "            literal=cst[0]\n",
    "            attribute_properties.append((subject,RDFS.label, Literal(literal,datatype=XSD.string)))\n",
    "            "
   ]
  },
  {
   "cell_type": "code",
   "execution_count": 46,
   "id": "5db21ed7",
   "metadata": {},
   "outputs": [],
   "source": [
    "\n",
    "for cst in songs: \n",
    "        individualName=str(myNamespace)+\"#\"+str(cst[0]).replace(' ','_')\n",
    "        arc_class=str(myNamespace)+\"#\"+\"Song\"\n",
    "        arc_individual = URIRef(individualName)         \n",
    "        if(isAlreadyDefined(individualName)==False): \n",
    "            all_triplets.append((arc_individual,RDF.type, URIRef(arc_class)))\n",
    "            all_triplets.append((arc_individual,RDF.type, URIRef(namedIndividual)))\n",
    "            \n",
    "            \n",
    "            # add rdf label\n",
    "            literal=cst[0]\n",
    "            attribute_properties.append((arc_individual,RDFS.label, Literal(literal,datatype=XSD.string)))\n",
    "            \n",
    "           "
   ]
  },
  {
   "cell_type": "markdown",
   "id": "6ff86627",
   "metadata": {},
   "source": [
    "### Add object properties \"Hires\"\n",
    "#### Director hires cast and crew members\n",
    "#### Use attribute personid HiredBy provided in the XML to make the mapping"
   ]
  },
  {
   "cell_type": "code",
   "execution_count": 47,
   "id": "e0720fc9",
   "metadata": {},
   "outputs": [],
   "source": [
    "\n",
    "for director in distinctDirectors:\n",
    "    individualName=str(myNamespace)+\"#\"+str(director[0]).replace(' ','_')   \n",
    "    subject = URIRef(individualName)         \n",
    "    pred=URIRef((myNamespace)+\"#hires\")\n",
    "\n",
    "    for cost in constumeDesigner: \n",
    "        \n",
    "        if(cost[2]==director[1]):\n",
    "            individualName=str(myNamespace)+\"#\"+str(cost[0]).replace(' ','_') \n",
    "            objects = URIRef(individualName)\n",
    "            object_properties.append((subject,pred,objects))\n",
    "    for cost in singer: \n",
    "        if(cost[2]==director[1]):\n",
    "            individualName=str(myNamespace)+\"#\"+str(cost[0]).replace(' ','_') \n",
    "            objects = URIRef(individualName)\n",
    "            object_properties.append((subject,pred,objects))\n",
    "    for cost in actor: \n",
    "        if(cost[2]==director[1]):\n",
    "            individualName=str(myNamespace)+\"#\"+str(cost[0]).replace(' ','_') \n",
    "            objects = URIRef(individualName)\n",
    "            object_properties.append((subject,pred,objects))\n",
    "       \n",
    "        \n",
    "        "
   ]
  },
  {
   "cell_type": "markdown",
   "id": "bf80a52b",
   "metadata": {},
   "source": [
    "### Object properties Consist-Of\n",
    "#### Season consist-Of episodes"
   ]
  },
  {
   "cell_type": "code",
   "execution_count": 48,
   "id": "a5a2f75d",
   "metadata": {},
   "outputs": [],
   "source": [
    "\n",
    "itr=0\n",
    "for eps in episodes:\n",
    "    itr+=1\n",
    "    #Add season\n",
    "    individualName=str(myNamespace)+\"#\"+str(\"season_\"+str(itr)).replace(' ','_')\n",
    "    subject = URIRef(individualName)  \n",
    "    pred= URIRef(str(myNamespace)+\"#consistsOf\")  \n",
    "    for i in range(len(eps)-1): \n",
    "        individualName=str(myNamespace)+\"#\"+str(eps[i+1]).replace(' ','_')\n",
    "        objects = URIRef(individualName) \n",
    "        object_properties.append((subject,pred,objects))"
   ]
  },
  {
   "cell_type": "code",
   "execution_count": 49,
   "id": "aa9d846c",
   "metadata": {},
   "outputs": [],
   "source": [
    "\n",
    "for cst in songs: \n",
    "    individualName=str(myNamespace)+\"#\"+str(cst[0]).replace(' ','_')\n",
    "    arc_class=str(myNamespace)+\"#\"+\"Song\"\n",
    "    object = URIRef(individualName) \n",
    "    pred= URIRef(str(myNamespace)+\"#sings\")  \n",
    "    for sng in singer:\n",
    "        if(int(cst[1][0])==int(sng[1])):\n",
    "            \n",
    "            individualName=str(myNamespace)+\"#\"+str(sng[0]).replace(' ','_')\n",
    "            subject = URIRef(individualName) \n",
    "            object_properties.append((subject,pred,objects))\n",
    "           "
   ]
  },
  {
   "cell_type": "markdown",
   "id": "6d660ff5",
   "metadata": {},
   "source": [
    "### All triplets"
   ]
  },
  {
   "cell_type": "code",
   "execution_count": 50,
   "id": "8f7b0d0d",
   "metadata": {},
   "outputs": [
    {
     "name": "stdout",
     "output_type": "stream",
     "text": [
      "[(rdflib.term.URIRef('http://www.semanticweb.org/cseka/ontologies/2022/3/tvseries#Vedant_Sinha'), rdflib.term.URIRef('http://www.w3.org/1999/02/22-rdf-syntax-ns#type'), rdflib.term.URIRef('http://www.semanticweb.org/cseka/ontologies/2022/3/tvseries#Actor')), (rdflib.term.URIRef('http://www.semanticweb.org/cseka/ontologies/2022/3/tvseries#Vedant_Sinha'), rdflib.term.URIRef('http://www.w3.org/1999/02/22-rdf-syntax-ns#type'), rdflib.term.URIRef('http://www.w3.org/2002/07/owl#NamedIndividual')), (rdflib.term.URIRef('http://www.semanticweb.org/cseka/ontologies/2022/3/tvseries#Ashlesha_Thakur'), rdflib.term.URIRef('http://www.w3.org/1999/02/22-rdf-syntax-ns#type'), rdflib.term.URIRef('http://www.semanticweb.org/cseka/ontologies/2022/3/tvseries#Actress')), (rdflib.term.URIRef('http://www.semanticweb.org/cseka/ontologies/2022/3/tvseries#Ashlesha_Thakur'), rdflib.term.URIRef('http://www.w3.org/1999/02/22-rdf-syntax-ns#type'), rdflib.term.URIRef('http://www.w3.org/2002/07/owl#NamedIndividual')), (rdflib.term.URIRef('http://www.semanticweb.org/cseka/ontologies/2022/3/tvseries#season_1'), rdflib.term.URIRef('http://www.w3.org/1999/02/22-rdf-syntax-ns#type'), rdflib.term.URIRef('http://www.semanticweb.org/cseka/ontologies/2022/3/tvseries#Season')), (rdflib.term.URIRef('http://www.semanticweb.org/cseka/ontologies/2022/3/tvseries#season_1'), rdflib.term.URIRef('http://www.w3.org/1999/02/22-rdf-syntax-ns#type'), rdflib.term.URIRef('http://www.w3.org/2002/07/owl#NamedIndividual')), (rdflib.term.URIRef('http://www.semanticweb.org/cseka/ontologies/2022/3/tvseries#Sleepers'), rdflib.term.URIRef('http://www.w3.org/1999/02/22-rdf-syntax-ns#type'), rdflib.term.URIRef('http://www.semanticweb.org/cseka/ontologies/2022/3/tvseries#Episode')), (rdflib.term.URIRef('http://www.semanticweb.org/cseka/ontologies/2022/3/tvseries#Sleepers'), rdflib.term.URIRef('http://www.w3.org/1999/02/22-rdf-syntax-ns#type'), rdflib.term.URIRef('http://www.w3.org/2002/07/owl#NamedIndividual')), (rdflib.term.URIRef('http://www.semanticweb.org/cseka/ontologies/2022/3/tvseries#Anti-National'), rdflib.term.URIRef('http://www.w3.org/1999/02/22-rdf-syntax-ns#type'), rdflib.term.URIRef('http://www.semanticweb.org/cseka/ontologies/2022/3/tvseries#Episode')), (rdflib.term.URIRef('http://www.semanticweb.org/cseka/ontologies/2022/3/tvseries#Anti-National'), rdflib.term.URIRef('http://www.w3.org/1999/02/22-rdf-syntax-ns#type'), rdflib.term.URIRef('http://www.w3.org/2002/07/owl#NamedIndividual')), (rdflib.term.URIRef('http://www.semanticweb.org/cseka/ontologies/2022/3/tvseries#Patriots'), rdflib.term.URIRef('http://www.w3.org/1999/02/22-rdf-syntax-ns#type'), rdflib.term.URIRef('http://www.semanticweb.org/cseka/ontologies/2022/3/tvseries#Episode')), (rdflib.term.URIRef('http://www.semanticweb.org/cseka/ontologies/2022/3/tvseries#Patriots'), rdflib.term.URIRef('http://www.w3.org/1999/02/22-rdf-syntax-ns#type'), rdflib.term.URIRef('http://www.w3.org/2002/07/owl#NamedIndividual')), (rdflib.term.URIRef('http://www.semanticweb.org/cseka/ontologies/2022/3/tvseries#Pariah'), rdflib.term.URIRef('http://www.w3.org/1999/02/22-rdf-syntax-ns#type'), rdflib.term.URIRef('http://www.semanticweb.org/cseka/ontologies/2022/3/tvseries#Episode')), (rdflib.term.URIRef('http://www.semanticweb.org/cseka/ontologies/2022/3/tvseries#Pariah'), rdflib.term.URIRef('http://www.w3.org/1999/02/22-rdf-syntax-ns#type'), rdflib.term.URIRef('http://www.w3.org/2002/07/owl#NamedIndividual')), (rdflib.term.URIRef('http://www.semanticweb.org/cseka/ontologies/2022/3/tvseries#Dance_of_Death'), rdflib.term.URIRef('http://www.w3.org/1999/02/22-rdf-syntax-ns#type'), rdflib.term.URIRef('http://www.semanticweb.org/cseka/ontologies/2022/3/tvseries#Episode')), (rdflib.term.URIRef('http://www.semanticweb.org/cseka/ontologies/2022/3/tvseries#Dance_of_Death'), rdflib.term.URIRef('http://www.w3.org/1999/02/22-rdf-syntax-ns#type'), rdflib.term.URIRef('http://www.w3.org/2002/07/owl#NamedIndividual')), (rdflib.term.URIRef('http://www.semanticweb.org/cseka/ontologies/2022/3/tvseries#Paradise'), rdflib.term.URIRef('http://www.w3.org/1999/02/22-rdf-syntax-ns#type'), rdflib.term.URIRef('http://www.semanticweb.org/cseka/ontologies/2022/3/tvseries#Episode')), (rdflib.term.URIRef('http://www.semanticweb.org/cseka/ontologies/2022/3/tvseries#Paradise'), rdflib.term.URIRef('http://www.w3.org/1999/02/22-rdf-syntax-ns#type'), rdflib.term.URIRef('http://www.w3.org/2002/07/owl#NamedIndividual')), (rdflib.term.URIRef('http://www.semanticweb.org/cseka/ontologies/2022/3/tvseries#Act_of_War'), rdflib.term.URIRef('http://www.w3.org/1999/02/22-rdf-syntax-ns#type'), rdflib.term.URIRef('http://www.semanticweb.org/cseka/ontologies/2022/3/tvseries#Episode')), (rdflib.term.URIRef('http://www.semanticweb.org/cseka/ontologies/2022/3/tvseries#Act_of_War'), rdflib.term.URIRef('http://www.w3.org/1999/02/22-rdf-syntax-ns#type'), rdflib.term.URIRef('http://www.w3.org/2002/07/owl#NamedIndividual')), (rdflib.term.URIRef('http://www.semanticweb.org/cseka/ontologies/2022/3/tvseries#Fighting_Dirty'), rdflib.term.URIRef('http://www.w3.org/1999/02/22-rdf-syntax-ns#type'), rdflib.term.URIRef('http://www.semanticweb.org/cseka/ontologies/2022/3/tvseries#Episode')), (rdflib.term.URIRef('http://www.semanticweb.org/cseka/ontologies/2022/3/tvseries#Fighting_Dirty'), rdflib.term.URIRef('http://www.w3.org/1999/02/22-rdf-syntax-ns#type'), rdflib.term.URIRef('http://www.w3.org/2002/07/owl#NamedIndividual')), (rdflib.term.URIRef('http://www.semanticweb.org/cseka/ontologies/2022/3/tvseries#The_Bomb'), rdflib.term.URIRef('http://www.w3.org/1999/02/22-rdf-syntax-ns#type'), rdflib.term.URIRef('http://www.semanticweb.org/cseka/ontologies/2022/3/tvseries#Episode')), (rdflib.term.URIRef('http://www.semanticweb.org/cseka/ontologies/2022/3/tvseries#The_Bomb'), rdflib.term.URIRef('http://www.w3.org/1999/02/22-rdf-syntax-ns#type'), rdflib.term.URIRef('http://www.w3.org/2002/07/owl#NamedIndividual')), (rdflib.term.URIRef('http://www.semanticweb.org/cseka/ontologies/2022/3/tvseries#season_2'), rdflib.term.URIRef('http://www.w3.org/1999/02/22-rdf-syntax-ns#type'), rdflib.term.URIRef('http://www.semanticweb.org/cseka/ontologies/2022/3/tvseries#Season')), (rdflib.term.URIRef('http://www.semanticweb.org/cseka/ontologies/2022/3/tvseries#season_2'), rdflib.term.URIRef('http://www.w3.org/1999/02/22-rdf-syntax-ns#type'), rdflib.term.URIRef('http://www.w3.org/2002/07/owl#NamedIndividual')), (rdflib.term.URIRef('http://www.semanticweb.org/cseka/ontologies/2022/3/tvseries#Weapon'), rdflib.term.URIRef('http://www.w3.org/1999/02/22-rdf-syntax-ns#type'), rdflib.term.URIRef('http://www.semanticweb.org/cseka/ontologies/2022/3/tvseries#Episode')), (rdflib.term.URIRef('http://www.semanticweb.org/cseka/ontologies/2022/3/tvseries#Weapon'), rdflib.term.URIRef('http://www.w3.org/1999/02/22-rdf-syntax-ns#type'), rdflib.term.URIRef('http://www.w3.org/2002/07/owl#NamedIndividual')), (rdflib.term.URIRef('http://www.semanticweb.org/cseka/ontologies/2022/3/tvseries#Angel_of_Death'), rdflib.term.URIRef('http://www.w3.org/1999/02/22-rdf-syntax-ns#type'), rdflib.term.URIRef('http://www.semanticweb.org/cseka/ontologies/2022/3/tvseries#Episode')), (rdflib.term.URIRef('http://www.semanticweb.org/cseka/ontologies/2022/3/tvseries#Angel_of_Death'), rdflib.term.URIRef('http://www.w3.org/1999/02/22-rdf-syntax-ns#type'), rdflib.term.URIRef('http://www.w3.org/2002/07/owl#NamedIndividual')), (rdflib.term.URIRef('http://www.semanticweb.org/cseka/ontologies/2022/3/tvseries#Eagle'), rdflib.term.URIRef('http://www.w3.org/1999/02/22-rdf-syntax-ns#type'), rdflib.term.URIRef('http://www.semanticweb.org/cseka/ontologies/2022/3/tvseries#Episode')), (rdflib.term.URIRef('http://www.semanticweb.org/cseka/ontologies/2022/3/tvseries#Eagle'), rdflib.term.URIRef('http://www.w3.org/1999/02/22-rdf-syntax-ns#type'), rdflib.term.URIRef('http://www.w3.org/2002/07/owl#NamedIndividual')), (rdflib.term.URIRef('http://www.semanticweb.org/cseka/ontologies/2022/3/tvseries#Homecoming'), rdflib.term.URIRef('http://www.w3.org/1999/02/22-rdf-syntax-ns#type'), rdflib.term.URIRef('http://www.semanticweb.org/cseka/ontologies/2022/3/tvseries#Episode')), (rdflib.term.URIRef('http://www.semanticweb.org/cseka/ontologies/2022/3/tvseries#Homecoming'), rdflib.term.URIRef('http://www.w3.org/1999/02/22-rdf-syntax-ns#type'), rdflib.term.URIRef('http://www.w3.org/2002/07/owl#NamedIndividual')), (rdflib.term.URIRef('http://www.semanticweb.org/cseka/ontologies/2022/3/tvseries#Martyrs'), rdflib.term.URIRef('http://www.w3.org/1999/02/22-rdf-syntax-ns#type'), rdflib.term.URIRef('http://www.semanticweb.org/cseka/ontologies/2022/3/tvseries#Episode')), (rdflib.term.URIRef('http://www.semanticweb.org/cseka/ontologies/2022/3/tvseries#Martyrs'), rdflib.term.URIRef('http://www.w3.org/1999/02/22-rdf-syntax-ns#type'), rdflib.term.URIRef('http://www.w3.org/2002/07/owl#NamedIndividual')), (rdflib.term.URIRef('http://www.semanticweb.org/cseka/ontologies/2022/3/tvseries#Collateral_Damage'), rdflib.term.URIRef('http://www.w3.org/1999/02/22-rdf-syntax-ns#type'), rdflib.term.URIRef('http://www.semanticweb.org/cseka/ontologies/2022/3/tvseries#Episode')), (rdflib.term.URIRef('http://www.semanticweb.org/cseka/ontologies/2022/3/tvseries#Collateral_Damage'), rdflib.term.URIRef('http://www.w3.org/1999/02/22-rdf-syntax-ns#type'), rdflib.term.URIRef('http://www.w3.org/2002/07/owl#NamedIndividual')), (rdflib.term.URIRef('http://www.semanticweb.org/cseka/ontologies/2022/3/tvseries#Vendetta'), rdflib.term.URIRef('http://www.w3.org/1999/02/22-rdf-syntax-ns#type'), rdflib.term.URIRef('http://www.semanticweb.org/cseka/ontologies/2022/3/tvseries#Episode')), (rdflib.term.URIRef('http://www.semanticweb.org/cseka/ontologies/2022/3/tvseries#Vendetta'), rdflib.term.URIRef('http://www.w3.org/1999/02/22-rdf-syntax-ns#type'), rdflib.term.URIRef('http://www.w3.org/2002/07/owl#NamedIndividual')), (rdflib.term.URIRef('http://www.semanticweb.org/cseka/ontologies/2022/3/tvseries#The_Final_Act'), rdflib.term.URIRef('http://www.w3.org/1999/02/22-rdf-syntax-ns#type'), rdflib.term.URIRef('http://www.semanticweb.org/cseka/ontologies/2022/3/tvseries#Episode')), (rdflib.term.URIRef('http://www.semanticweb.org/cseka/ontologies/2022/3/tvseries#The_Final_Act'), rdflib.term.URIRef('http://www.w3.org/1999/02/22-rdf-syntax-ns#type'), rdflib.term.URIRef('http://www.w3.org/2002/07/owl#NamedIndividual')), (rdflib.term.URIRef('http://www.semanticweb.org/cseka/ontologies/2022/3/tvseries#Drama'), rdflib.term.URIRef('http://www.w3.org/1999/02/22-rdf-syntax-ns#type'), rdflib.term.URIRef('http://www.semanticweb.org/cseka/ontologies/2022/3/tvseries#Genere')), (rdflib.term.URIRef('http://www.semanticweb.org/cseka/ontologies/2022/3/tvseries#Drama'), rdflib.term.URIRef('http://www.w3.org/1999/02/22-rdf-syntax-ns#type'), rdflib.term.URIRef('http://www.w3.org/2002/07/owl#NamedIndividual')), (rdflib.term.URIRef('http://www.semanticweb.org/cseka/ontologies/2022/3/tvseries#Raj_NpersonIdimoru_'), rdflib.term.URIRef('http://www.w3.org/1999/02/22-rdf-syntax-ns#type'), rdflib.term.URIRef('http://www.semanticweb.org/cseka/ontologies/2022/3/tvseries#Director')), (rdflib.term.URIRef('http://www.semanticweb.org/cseka/ontologies/2022/3/tvseries#Raj_NpersonIdimoru_'), rdflib.term.URIRef('http://www.w3.org/1999/02/22-rdf-syntax-ns#type'), rdflib.term.URIRef('http://www.w3.org/2002/07/owl#NamedIndividual')), (rdflib.term.URIRef('http://www.semanticweb.org/cseka/ontologies/2022/3/tvseries#Krishna_D.K_'), rdflib.term.URIRef('http://www.w3.org/1999/02/22-rdf-syntax-ns#type'), rdflib.term.URIRef('http://www.semanticweb.org/cseka/ontologies/2022/3/tvseries#Director')), (rdflib.term.URIRef('http://www.semanticweb.org/cseka/ontologies/2022/3/tvseries#Krishna_D.K_'), rdflib.term.URIRef('http://www.w3.org/1999/02/22-rdf-syntax-ns#type'), rdflib.term.URIRef('http://www.w3.org/2002/07/owl#NamedIndividual')), (rdflib.term.URIRef('http://www.semanticweb.org/cseka/ontologies/2022/3/tvseries#Suveera_Ambade'), rdflib.term.URIRef('http://www.w3.org/1999/02/22-rdf-syntax-ns#type'), rdflib.term.URIRef('http://www.semanticweb.org/cseka/ontologies/2022/3/tvseries#CostumeDesigner')), (rdflib.term.URIRef('http://www.semanticweb.org/cseka/ontologies/2022/3/tvseries#Suveera_Ambade'), rdflib.term.URIRef('http://www.w3.org/1999/02/22-rdf-syntax-ns#type'), rdflib.term.URIRef('http://www.w3.org/2002/07/owl#NamedIndividual')), (rdflib.term.URIRef('http://www.semanticweb.org/cseka/ontologies/2022/3/tvseries#Swetesh_Ambade'), rdflib.term.URIRef('http://www.w3.org/1999/02/22-rdf-syntax-ns#type'), rdflib.term.URIRef('http://www.semanticweb.org/cseka/ontologies/2022/3/tvseries#CostumeDesigner')), (rdflib.term.URIRef('http://www.semanticweb.org/cseka/ontologies/2022/3/tvseries#Swetesh_Ambade'), rdflib.term.URIRef('http://www.w3.org/1999/02/22-rdf-syntax-ns#type'), rdflib.term.URIRef('http://www.w3.org/2002/07/owl#NamedIndividual')), (rdflib.term.URIRef('http://www.semanticweb.org/cseka/ontologies/2022/3/tvseries#Shreya_Ghoshal'), rdflib.term.URIRef('http://www.w3.org/1999/02/22-rdf-syntax-ns#type'), rdflib.term.URIRef('http://www.semanticweb.org/cseka/ontologies/2022/3/tvseries#Singer')), (rdflib.term.URIRef('http://www.semanticweb.org/cseka/ontologies/2022/3/tvseries#Shreya_Ghoshal'), rdflib.term.URIRef('http://www.w3.org/1999/02/22-rdf-syntax-ns#type'), rdflib.term.URIRef('http://www.w3.org/2002/07/owl#NamedIndividual')), (rdflib.term.URIRef('http://www.semanticweb.org/cseka/ontologies/2022/3/tvseries#Mellow_D'), rdflib.term.URIRef('http://www.w3.org/1999/02/22-rdf-syntax-ns#type'), rdflib.term.URIRef('http://www.semanticweb.org/cseka/ontologies/2022/3/tvseries#Singer')), (rdflib.term.URIRef('http://www.semanticweb.org/cseka/ontologies/2022/3/tvseries#Mellow_D'), rdflib.term.URIRef('http://www.w3.org/1999/02/22-rdf-syntax-ns#type'), rdflib.term.URIRef('http://www.w3.org/2002/07/owl#NamedIndividual')), (rdflib.term.URIRef('http://www.semanticweb.org/cseka/ontologies/2022/3/tvseries#Ved_Jamsandekar'), rdflib.term.URIRef('http://www.w3.org/1999/02/22-rdf-syntax-ns#type'), rdflib.term.URIRef('http://www.semanticweb.org/cseka/ontologies/2022/3/tvseries#Singer')), (rdflib.term.URIRef('http://www.semanticweb.org/cseka/ontologies/2022/3/tvseries#Ved_Jamsandekar'), rdflib.term.URIRef('http://www.w3.org/1999/02/22-rdf-syntax-ns#type'), rdflib.term.URIRef('http://www.w3.org/2002/07/owl#NamedIndividual')), (rdflib.term.URIRef('http://www.semanticweb.org/cseka/ontologies/2022/3/tvseries#Kiske_Liye_Tu_Marega'), rdflib.term.URIRef('http://www.w3.org/1999/02/22-rdf-syntax-ns#type'), rdflib.term.URIRef('http://www.semanticweb.org/cseka/ontologies/2022/3/tvseries#Song')), (rdflib.term.URIRef('http://www.semanticweb.org/cseka/ontologies/2022/3/tvseries#Kiske_Liye_Tu_Marega'), rdflib.term.URIRef('http://www.w3.org/1999/02/22-rdf-syntax-ns#type'), rdflib.term.URIRef('http://www.w3.org/2002/07/owl#NamedIndividual')), (rdflib.term.URIRef('http://www.semanticweb.org/cseka/ontologies/2022/3/tvseries#Banjara'), rdflib.term.URIRef('http://www.w3.org/1999/02/22-rdf-syntax-ns#type'), rdflib.term.URIRef('http://www.semanticweb.org/cseka/ontologies/2022/3/tvseries#Song')), (rdflib.term.URIRef('http://www.semanticweb.org/cseka/ontologies/2022/3/tvseries#Banjara'), rdflib.term.URIRef('http://www.w3.org/1999/02/22-rdf-syntax-ns#type'), rdflib.term.URIRef('http://www.w3.org/2002/07/owl#NamedIndividual'))]\n"
     ]
    }
   ],
   "source": [
    "print(all_triplets)\n"
   ]
  },
  {
   "cell_type": "code",
   "execution_count": 51,
   "id": "3f44cadd",
   "metadata": {},
   "outputs": [
    {
     "name": "stdout",
     "output_type": "stream",
     "text": [
      "[(rdflib.term.URIRef('http://www.semanticweb.org/cseka/ontologies/2022/3/tvseries#Raj_NpersonIdimoru_'), rdflib.term.URIRef('http://www.semanticweb.org/cseka/ontologies/2022/3/tvseries#hires'), rdflib.term.URIRef('http://www.semanticweb.org/cseka/ontologies/2022/3/tvseries#Krish_Khatri')), (rdflib.term.URIRef('http://www.semanticweb.org/cseka/ontologies/2022/3/tvseries#Raj_NpersonIdimoru_'), rdflib.term.URIRef('http://www.semanticweb.org/cseka/ontologies/2022/3/tvseries#hires'), rdflib.term.URIRef('http://www.semanticweb.org/cseka/ontologies/2022/3/tvseries#Suveera_Ambade')), (rdflib.term.URIRef('http://www.semanticweb.org/cseka/ontologies/2022/3/tvseries#Raj_NpersonIdimoru_'), rdflib.term.URIRef('http://www.semanticweb.org/cseka/ontologies/2022/3/tvseries#hires'), rdflib.term.URIRef('http://www.semanticweb.org/cseka/ontologies/2022/3/tvseries#Shreya_Ghoshal')), (rdflib.term.URIRef('http://www.semanticweb.org/cseka/ontologies/2022/3/tvseries#Raj_NpersonIdimoru_'), rdflib.term.URIRef('http://www.semanticweb.org/cseka/ontologies/2022/3/tvseries#hires'), rdflib.term.URIRef('http://www.semanticweb.org/cseka/ontologies/2022/3/tvseries#Ved_Jamsandekar')), (rdflib.term.URIRef('http://www.semanticweb.org/cseka/ontologies/2022/3/tvseries#Raj_NpersonIdimoru_'), rdflib.term.URIRef('http://www.semanticweb.org/cseka/ontologies/2022/3/tvseries#hires'), rdflib.term.URIRef('http://www.semanticweb.org/cseka/ontologies/2022/3/tvseries#Vijay_Vikram_Singh')), (rdflib.term.URIRef('http://www.semanticweb.org/cseka/ontologies/2022/3/tvseries#Raj_NpersonIdimoru_'), rdflib.term.URIRef('http://www.semanticweb.org/cseka/ontologies/2022/3/tvseries#hires'), rdflib.term.URIRef('http://www.semanticweb.org/cseka/ontologies/2022/3/tvseries#Vedant_Sinha')), (rdflib.term.URIRef('http://www.semanticweb.org/cseka/ontologies/2022/3/tvseries#Krishna_D.K_'), rdflib.term.URIRef('http://www.semanticweb.org/cseka/ontologies/2022/3/tvseries#hires'), rdflib.term.URIRef('http://www.semanticweb.org/cseka/ontologies/2022/3/tvseries#Swetesh_Ambade')), (rdflib.term.URIRef('http://www.semanticweb.org/cseka/ontologies/2022/3/tvseries#Krishna_D.K_'), rdflib.term.URIRef('http://www.semanticweb.org/cseka/ontologies/2022/3/tvseries#hires'), rdflib.term.URIRef('http://www.semanticweb.org/cseka/ontologies/2022/3/tvseries#Mellow_D')), (rdflib.term.URIRef('http://www.semanticweb.org/cseka/ontologies/2022/3/tvseries#Krishna_D.K_'), rdflib.term.URIRef('http://www.semanticweb.org/cseka/ontologies/2022/3/tvseries#hires'), rdflib.term.URIRef('http://www.semanticweb.org/cseka/ontologies/2022/3/tvseries#Manoj_Bajpayee')), (rdflib.term.URIRef('http://www.semanticweb.org/cseka/ontologies/2022/3/tvseries#Krishna_D.K_'), rdflib.term.URIRef('http://www.semanticweb.org/cseka/ontologies/2022/3/tvseries#hires'), rdflib.term.URIRef('http://www.semanticweb.org/cseka/ontologies/2022/3/tvseries#Sharib_Hashmi')), (rdflib.term.URIRef('http://www.semanticweb.org/cseka/ontologies/2022/3/tvseries#season_1'), rdflib.term.URIRef('http://www.semanticweb.org/cseka/ontologies/2022/3/tvseries#consistsOf'), rdflib.term.URIRef('http://www.semanticweb.org/cseka/ontologies/2022/3/tvseries#Sleepers')), (rdflib.term.URIRef('http://www.semanticweb.org/cseka/ontologies/2022/3/tvseries#season_1'), rdflib.term.URIRef('http://www.semanticweb.org/cseka/ontologies/2022/3/tvseries#consistsOf'), rdflib.term.URIRef('http://www.semanticweb.org/cseka/ontologies/2022/3/tvseries#Anti-National')), (rdflib.term.URIRef('http://www.semanticweb.org/cseka/ontologies/2022/3/tvseries#season_1'), rdflib.term.URIRef('http://www.semanticweb.org/cseka/ontologies/2022/3/tvseries#consistsOf'), rdflib.term.URIRef('http://www.semanticweb.org/cseka/ontologies/2022/3/tvseries#Patriots')), (rdflib.term.URIRef('http://www.semanticweb.org/cseka/ontologies/2022/3/tvseries#season_1'), rdflib.term.URIRef('http://www.semanticweb.org/cseka/ontologies/2022/3/tvseries#consistsOf'), rdflib.term.URIRef('http://www.semanticweb.org/cseka/ontologies/2022/3/tvseries#Pariah')), (rdflib.term.URIRef('http://www.semanticweb.org/cseka/ontologies/2022/3/tvseries#season_1'), rdflib.term.URIRef('http://www.semanticweb.org/cseka/ontologies/2022/3/tvseries#consistsOf'), rdflib.term.URIRef('http://www.semanticweb.org/cseka/ontologies/2022/3/tvseries#Dance_of_Death')), (rdflib.term.URIRef('http://www.semanticweb.org/cseka/ontologies/2022/3/tvseries#season_1'), rdflib.term.URIRef('http://www.semanticweb.org/cseka/ontologies/2022/3/tvseries#consistsOf'), rdflib.term.URIRef('http://www.semanticweb.org/cseka/ontologies/2022/3/tvseries#Paradise')), (rdflib.term.URIRef('http://www.semanticweb.org/cseka/ontologies/2022/3/tvseries#season_1'), rdflib.term.URIRef('http://www.semanticweb.org/cseka/ontologies/2022/3/tvseries#consistsOf'), rdflib.term.URIRef('http://www.semanticweb.org/cseka/ontologies/2022/3/tvseries#Act_of_War')), (rdflib.term.URIRef('http://www.semanticweb.org/cseka/ontologies/2022/3/tvseries#season_1'), rdflib.term.URIRef('http://www.semanticweb.org/cseka/ontologies/2022/3/tvseries#consistsOf'), rdflib.term.URIRef('http://www.semanticweb.org/cseka/ontologies/2022/3/tvseries#Fighting_Dirty')), (rdflib.term.URIRef('http://www.semanticweb.org/cseka/ontologies/2022/3/tvseries#season_1'), rdflib.term.URIRef('http://www.semanticweb.org/cseka/ontologies/2022/3/tvseries#consistsOf'), rdflib.term.URIRef('http://www.semanticweb.org/cseka/ontologies/2022/3/tvseries#The_Bomb')), (rdflib.term.URIRef('http://www.semanticweb.org/cseka/ontologies/2022/3/tvseries#season_2'), rdflib.term.URIRef('http://www.semanticweb.org/cseka/ontologies/2022/3/tvseries#consistsOf'), rdflib.term.URIRef('http://www.semanticweb.org/cseka/ontologies/2022/3/tvseries#Weapon')), (rdflib.term.URIRef('http://www.semanticweb.org/cseka/ontologies/2022/3/tvseries#season_2'), rdflib.term.URIRef('http://www.semanticweb.org/cseka/ontologies/2022/3/tvseries#consistsOf'), rdflib.term.URIRef('http://www.semanticweb.org/cseka/ontologies/2022/3/tvseries#Angel_of_Death')), (rdflib.term.URIRef('http://www.semanticweb.org/cseka/ontologies/2022/3/tvseries#season_2'), rdflib.term.URIRef('http://www.semanticweb.org/cseka/ontologies/2022/3/tvseries#consistsOf'), rdflib.term.URIRef('http://www.semanticweb.org/cseka/ontologies/2022/3/tvseries#Eagle')), (rdflib.term.URIRef('http://www.semanticweb.org/cseka/ontologies/2022/3/tvseries#season_2'), rdflib.term.URIRef('http://www.semanticweb.org/cseka/ontologies/2022/3/tvseries#consistsOf'), rdflib.term.URIRef('http://www.semanticweb.org/cseka/ontologies/2022/3/tvseries#Homecoming')), (rdflib.term.URIRef('http://www.semanticweb.org/cseka/ontologies/2022/3/tvseries#season_2'), rdflib.term.URIRef('http://www.semanticweb.org/cseka/ontologies/2022/3/tvseries#consistsOf'), rdflib.term.URIRef('http://www.semanticweb.org/cseka/ontologies/2022/3/tvseries#Martyrs')), (rdflib.term.URIRef('http://www.semanticweb.org/cseka/ontologies/2022/3/tvseries#season_2'), rdflib.term.URIRef('http://www.semanticweb.org/cseka/ontologies/2022/3/tvseries#consistsOf'), rdflib.term.URIRef('http://www.semanticweb.org/cseka/ontologies/2022/3/tvseries#Collateral_Damage')), (rdflib.term.URIRef('http://www.semanticweb.org/cseka/ontologies/2022/3/tvseries#season_2'), rdflib.term.URIRef('http://www.semanticweb.org/cseka/ontologies/2022/3/tvseries#consistsOf'), rdflib.term.URIRef('http://www.semanticweb.org/cseka/ontologies/2022/3/tvseries#Vendetta')), (rdflib.term.URIRef('http://www.semanticweb.org/cseka/ontologies/2022/3/tvseries#season_2'), rdflib.term.URIRef('http://www.semanticweb.org/cseka/ontologies/2022/3/tvseries#consistsOf'), rdflib.term.URIRef('http://www.semanticweb.org/cseka/ontologies/2022/3/tvseries#The_Final_Act')), (rdflib.term.URIRef('http://www.semanticweb.org/cseka/ontologies/2022/3/tvseries#Shreya_Ghoshal'), rdflib.term.URIRef('http://www.semanticweb.org/cseka/ontologies/2022/3/tvseries#sings'), rdflib.term.URIRef('http://www.semanticweb.org/cseka/ontologies/2022/3/tvseries#The_Final_Act')), (rdflib.term.URIRef('http://www.semanticweb.org/cseka/ontologies/2022/3/tvseries#Ved_Jamsandekar'), rdflib.term.URIRef('http://www.semanticweb.org/cseka/ontologies/2022/3/tvseries#sings'), rdflib.term.URIRef('http://www.semanticweb.org/cseka/ontologies/2022/3/tvseries#The_Final_Act')), (rdflib.term.URIRef('http://www.semanticweb.org/cseka/ontologies/2022/3/tvseries#Shreya_Ghoshal'), rdflib.term.URIRef('http://www.semanticweb.org/cseka/ontologies/2022/3/tvseries#sings'), rdflib.term.URIRef('http://www.semanticweb.org/cseka/ontologies/2022/3/tvseries#The_Final_Act'))]\n"
     ]
    }
   ],
   "source": [
    "print(object_properties)"
   ]
  },
  {
   "cell_type": "code",
   "execution_count": 52,
   "id": "c088f069",
   "metadata": {},
   "outputs": [
    {
     "name": "stdout",
     "output_type": "stream",
     "text": [
      "[(rdflib.term.URIRef('http://www.semanticweb.org/cseka/ontologies/2022/3/tvseries#Vedant_Sinha'), rdflib.term.URIRef('http://www.semanticweb.org/cseka/ontologies/2022/3/tvseries#personid'), rdflib.term.Literal('4', datatype=rdflib.term.URIRef('http://www.w3.org/2001/XMLSchema#integer'))), (rdflib.term.URIRef('http://www.semanticweb.org/cseka/ontologies/2022/3/tvseries#Vedant_Sinha'), rdflib.term.URIRef('http://www.w3.org/2000/01/rdf-schema#label'), rdflib.term.Literal('Vedant Sinha', datatype=rdflib.term.URIRef('http://www.w3.org/2001/XMLSchema#string'))), (rdflib.term.URIRef('http://www.semanticweb.org/cseka/ontologies/2022/3/tvseries#Ashlesha_Thakur'), rdflib.term.URIRef('http://www.semanticweb.org/cseka/ontologies/2022/3/tvseries#personid'), rdflib.term.Literal('3', datatype=rdflib.term.URIRef('http://www.w3.org/2001/XMLSchema#integer'))), (rdflib.term.URIRef('http://www.semanticweb.org/cseka/ontologies/2022/3/tvseries#Ashlesha_Thakur'), rdflib.term.URIRef('http://www.w3.org/2000/01/rdf-schema#label'), rdflib.term.Literal('Ashlesha Thakur', datatype=rdflib.term.URIRef('http://www.w3.org/2001/XMLSchema#string'))), (rdflib.term.URIRef('http://www.semanticweb.org/cseka/ontologies/2022/3/tvseries#Sleepers'), rdflib.term.URIRef('http://www.w3.org/2000/01/rdf-schema#label'), rdflib.term.Literal('Sleepers', datatype=rdflib.term.URIRef('http://www.w3.org/2001/XMLSchema#string'))), (rdflib.term.URIRef('http://www.semanticweb.org/cseka/ontologies/2022/3/tvseries#Anti-National'), rdflib.term.URIRef('http://www.w3.org/2000/01/rdf-schema#label'), rdflib.term.Literal('Anti-National', datatype=rdflib.term.URIRef('http://www.w3.org/2001/XMLSchema#string'))), (rdflib.term.URIRef('http://www.semanticweb.org/cseka/ontologies/2022/3/tvseries#Patriots'), rdflib.term.URIRef('http://www.w3.org/2000/01/rdf-schema#label'), rdflib.term.Literal('Patriots', datatype=rdflib.term.URIRef('http://www.w3.org/2001/XMLSchema#string'))), (rdflib.term.URIRef('http://www.semanticweb.org/cseka/ontologies/2022/3/tvseries#Pariah'), rdflib.term.URIRef('http://www.w3.org/2000/01/rdf-schema#label'), rdflib.term.Literal('Pariah', datatype=rdflib.term.URIRef('http://www.w3.org/2001/XMLSchema#string'))), (rdflib.term.URIRef('http://www.semanticweb.org/cseka/ontologies/2022/3/tvseries#Dance_of_Death'), rdflib.term.URIRef('http://www.w3.org/2000/01/rdf-schema#label'), rdflib.term.Literal('Dance of Death', datatype=rdflib.term.URIRef('http://www.w3.org/2001/XMLSchema#string'))), (rdflib.term.URIRef('http://www.semanticweb.org/cseka/ontologies/2022/3/tvseries#Paradise'), rdflib.term.URIRef('http://www.w3.org/2000/01/rdf-schema#label'), rdflib.term.Literal('Paradise', datatype=rdflib.term.URIRef('http://www.w3.org/2001/XMLSchema#string'))), (rdflib.term.URIRef('http://www.semanticweb.org/cseka/ontologies/2022/3/tvseries#Act_of_War'), rdflib.term.URIRef('http://www.w3.org/2000/01/rdf-schema#label'), rdflib.term.Literal('Act of War', datatype=rdflib.term.URIRef('http://www.w3.org/2001/XMLSchema#string'))), (rdflib.term.URIRef('http://www.semanticweb.org/cseka/ontologies/2022/3/tvseries#Fighting_Dirty'), rdflib.term.URIRef('http://www.w3.org/2000/01/rdf-schema#label'), rdflib.term.Literal('Fighting Dirty', datatype=rdflib.term.URIRef('http://www.w3.org/2001/XMLSchema#string'))), (rdflib.term.URIRef('http://www.semanticweb.org/cseka/ontologies/2022/3/tvseries#The_Bomb'), rdflib.term.URIRef('http://www.w3.org/2000/01/rdf-schema#label'), rdflib.term.Literal('The Bomb', datatype=rdflib.term.URIRef('http://www.w3.org/2001/XMLSchema#string'))), (rdflib.term.URIRef('http://www.semanticweb.org/cseka/ontologies/2022/3/tvseries#Weapon'), rdflib.term.URIRef('http://www.w3.org/2000/01/rdf-schema#label'), rdflib.term.Literal('Weapon', datatype=rdflib.term.URIRef('http://www.w3.org/2001/XMLSchema#string'))), (rdflib.term.URIRef('http://www.semanticweb.org/cseka/ontologies/2022/3/tvseries#Angel_of_Death'), rdflib.term.URIRef('http://www.w3.org/2000/01/rdf-schema#label'), rdflib.term.Literal('Angel of Death', datatype=rdflib.term.URIRef('http://www.w3.org/2001/XMLSchema#string'))), (rdflib.term.URIRef('http://www.semanticweb.org/cseka/ontologies/2022/3/tvseries#Eagle'), rdflib.term.URIRef('http://www.w3.org/2000/01/rdf-schema#label'), rdflib.term.Literal('Eagle', datatype=rdflib.term.URIRef('http://www.w3.org/2001/XMLSchema#string'))), (rdflib.term.URIRef('http://www.semanticweb.org/cseka/ontologies/2022/3/tvseries#Homecoming'), rdflib.term.URIRef('http://www.w3.org/2000/01/rdf-schema#label'), rdflib.term.Literal('Homecoming', datatype=rdflib.term.URIRef('http://www.w3.org/2001/XMLSchema#string'))), (rdflib.term.URIRef('http://www.semanticweb.org/cseka/ontologies/2022/3/tvseries#Martyrs'), rdflib.term.URIRef('http://www.w3.org/2000/01/rdf-schema#label'), rdflib.term.Literal('Martyrs', datatype=rdflib.term.URIRef('http://www.w3.org/2001/XMLSchema#string'))), (rdflib.term.URIRef('http://www.semanticweb.org/cseka/ontologies/2022/3/tvseries#Collateral_Damage'), rdflib.term.URIRef('http://www.w3.org/2000/01/rdf-schema#label'), rdflib.term.Literal('Collateral Damage', datatype=rdflib.term.URIRef('http://www.w3.org/2001/XMLSchema#string'))), (rdflib.term.URIRef('http://www.semanticweb.org/cseka/ontologies/2022/3/tvseries#Vendetta'), rdflib.term.URIRef('http://www.w3.org/2000/01/rdf-schema#label'), rdflib.term.Literal('Vendetta', datatype=rdflib.term.URIRef('http://www.w3.org/2001/XMLSchema#string'))), (rdflib.term.URIRef('http://www.semanticweb.org/cseka/ontologies/2022/3/tvseries#The_Final_Act'), rdflib.term.URIRef('http://www.w3.org/2000/01/rdf-schema#label'), rdflib.term.Literal('The Final Act', datatype=rdflib.term.URIRef('http://www.w3.org/2001/XMLSchema#string'))), (rdflib.term.URIRef('http://www.semanticweb.org/cseka/ontologies/2022/3/tvseries#Raj_NpersonIdimoru_'), rdflib.term.URIRef('http://www.semanticweb.org/cseka/ontologies/2022/3/tvseries#personid'), rdflib.term.Literal('10', datatype=rdflib.term.URIRef('http://www.w3.org/2001/XMLSchema#integer'))), (rdflib.term.URIRef('http://www.semanticweb.org/cseka/ontologies/2022/3/tvseries#Raj_NpersonIdimoru_'), rdflib.term.URIRef('http://www.w3.org/2000/01/rdf-schema#label'), rdflib.term.Literal('Raj NpersonIdimoru ', datatype=rdflib.term.URIRef('http://www.w3.org/2001/XMLSchema#string'))), (rdflib.term.URIRef('http://www.semanticweb.org/cseka/ontologies/2022/3/tvseries#Krishna_D.K_'), rdflib.term.URIRef('http://www.semanticweb.org/cseka/ontologies/2022/3/tvseries#personid'), rdflib.term.Literal('11', datatype=rdflib.term.URIRef('http://www.w3.org/2001/XMLSchema#integer'))), (rdflib.term.URIRef('http://www.semanticweb.org/cseka/ontologies/2022/3/tvseries#Krishna_D.K_'), rdflib.term.URIRef('http://www.w3.org/2000/01/rdf-schema#label'), rdflib.term.Literal('Krishna D.K ', datatype=rdflib.term.URIRef('http://www.w3.org/2001/XMLSchema#string'))), (rdflib.term.URIRef('http://www.semanticweb.org/cseka/ontologies/2022/3/tvseries#Suveera_Ambade'), rdflib.term.URIRef('http://www.semanticweb.org/cseka/ontologies/2022/3/tvseries#personid'), rdflib.term.Literal('20', datatype=rdflib.term.URIRef('http://www.w3.org/2001/XMLSchema#integer'))), (rdflib.term.URIRef('http://www.semanticweb.org/cseka/ontologies/2022/3/tvseries#Suveera_Ambade'), rdflib.term.URIRef('http://www.w3.org/2000/01/rdf-schema#label'), rdflib.term.Literal('Suveera Ambade', datatype=rdflib.term.URIRef('http://www.w3.org/2001/XMLSchema#string'))), (rdflib.term.URIRef('http://www.semanticweb.org/cseka/ontologies/2022/3/tvseries#Swetesh_Ambade'), rdflib.term.URIRef('http://www.semanticweb.org/cseka/ontologies/2022/3/tvseries#personid'), rdflib.term.Literal('21', datatype=rdflib.term.URIRef('http://www.w3.org/2001/XMLSchema#integer'))), (rdflib.term.URIRef('http://www.semanticweb.org/cseka/ontologies/2022/3/tvseries#Swetesh_Ambade'), rdflib.term.URIRef('http://www.w3.org/2000/01/rdf-schema#label'), rdflib.term.Literal('Swetesh Ambade', datatype=rdflib.term.URIRef('http://www.w3.org/2001/XMLSchema#string'))), (rdflib.term.URIRef('http://www.semanticweb.org/cseka/ontologies/2022/3/tvseries#Shreya_Ghoshal'), rdflib.term.URIRef('http://www.semanticweb.org/cseka/ontologies/2022/3/tvseries#personid'), rdflib.term.Literal('12', datatype=rdflib.term.URIRef('http://www.w3.org/2001/XMLSchema#integer'))), (rdflib.term.URIRef('http://www.semanticweb.org/cseka/ontologies/2022/3/tvseries#Shreya_Ghoshal'), rdflib.term.URIRef('http://www.w3.org/2000/01/rdf-schema#label'), rdflib.term.Literal('Shreya Ghoshal', datatype=rdflib.term.URIRef('http://www.w3.org/2001/XMLSchema#string'))), (rdflib.term.URIRef('http://www.semanticweb.org/cseka/ontologies/2022/3/tvseries#Mellow_D'), rdflib.term.URIRef('http://www.semanticweb.org/cseka/ontologies/2022/3/tvseries#personid'), rdflib.term.Literal('13', datatype=rdflib.term.URIRef('http://www.w3.org/2001/XMLSchema#integer'))), (rdflib.term.URIRef('http://www.semanticweb.org/cseka/ontologies/2022/3/tvseries#Mellow_D'), rdflib.term.URIRef('http://www.w3.org/2000/01/rdf-schema#label'), rdflib.term.Literal('Mellow D', datatype=rdflib.term.URIRef('http://www.w3.org/2001/XMLSchema#string'))), (rdflib.term.URIRef('http://www.semanticweb.org/cseka/ontologies/2022/3/tvseries#Ved_Jamsandekar'), rdflib.term.URIRef('http://www.semanticweb.org/cseka/ontologies/2022/3/tvseries#personid'), rdflib.term.Literal('14', datatype=rdflib.term.URIRef('http://www.w3.org/2001/XMLSchema#integer'))), (rdflib.term.URIRef('http://www.semanticweb.org/cseka/ontologies/2022/3/tvseries#Ved_Jamsandekar'), rdflib.term.URIRef('http://www.w3.org/2000/01/rdf-schema#label'), rdflib.term.Literal('Ved Jamsandekar', datatype=rdflib.term.URIRef('http://www.w3.org/2001/XMLSchema#string'))), (rdflib.term.URIRef('http://www.semanticweb.org/cseka/ontologies/2022/3/tvseries#Kiske_Liye_Tu_Marega'), rdflib.term.URIRef('http://www.w3.org/2000/01/rdf-schema#label'), rdflib.term.Literal('Kiske Liye Tu Marega', datatype=rdflib.term.URIRef('http://www.w3.org/2001/XMLSchema#string'))), (rdflib.term.URIRef('http://www.semanticweb.org/cseka/ontologies/2022/3/tvseries#Banjara'), rdflib.term.URIRef('http://www.w3.org/2000/01/rdf-schema#label'), rdflib.term.Literal('Banjara', datatype=rdflib.term.URIRef('http://www.w3.org/2001/XMLSchema#string')))]\n"
     ]
    }
   ],
   "source": [
    "print(attribute_properties)"
   ]
  },
  {
   "cell_type": "markdown",
   "id": "d85a5ca6",
   "metadata": {},
   "source": [
    "### add all the triplets"
   ]
  },
  {
   "cell_type": "markdown",
   "id": "e1e7012c",
   "metadata": {},
   "source": [
    "##### Add indivisual"
   ]
  },
  {
   "cell_type": "code",
   "execution_count": 53,
   "id": "8fe6ff7b",
   "metadata": {},
   "outputs": [],
   "source": [
    "for i in all_triplets:\n",
    "    g.add(i)\n"
   ]
  },
  {
   "cell_type": "markdown",
   "id": "0021fe32",
   "metadata": {},
   "source": [
    "##### Add Object properties"
   ]
  },
  {
   "cell_type": "code",
   "execution_count": 54,
   "id": "fb9a4a0e",
   "metadata": {},
   "outputs": [],
   "source": [
    "for i in object_properties:\n",
    "    g.add(i)\n"
   ]
  },
  {
   "cell_type": "markdown",
   "id": "cf00fe4b",
   "metadata": {},
   "source": [
    "##### Add Attribute properties"
   ]
  },
  {
   "cell_type": "code",
   "execution_count": 55,
   "id": "e63aabd5",
   "metadata": {},
   "outputs": [],
   "source": [
    "for i in attribute_properties:\n",
    "    g.add(i)\n"
   ]
  },
  {
   "cell_type": "markdown",
   "id": "efb2644b",
   "metadata": {},
   "source": [
    "### Save data"
   ]
  },
  {
   "cell_type": "code",
   "execution_count": 56,
   "id": "6ece8224",
   "metadata": {},
   "outputs": [],
   "source": [
    "g.serialize(destination=\"tbl_new.owl\")"
   ]
  },
  {
   "cell_type": "code",
   "execution_count": null,
   "id": "13dd00a5",
   "metadata": {},
   "outputs": [],
   "source": []
  }
 ],
 "metadata": {
  "kernelspec": {
   "display_name": "Python 3",
   "language": "python",
   "name": "python3"
  },
  "language_info": {
   "codemirror_mode": {
    "name": "ipython",
    "version": 3
   },
   "file_extension": ".py",
   "mimetype": "text/x-python",
   "name": "python",
   "nbconvert_exporter": "python",
   "pygments_lexer": "ipython3",
   "version": "3.6.5"
  }
 },
 "nbformat": 4,
 "nbformat_minor": 5
}
